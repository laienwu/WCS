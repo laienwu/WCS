{
  "nbformat": 4,
  "nbformat_minor": 0,
  "metadata": {
    "colab": {
      "name": "Yuka.ipynb",
      "provenance": [],
      "include_colab_link": true
    },
    "kernelspec": {
      "name": "python3",
      "display_name": "Python 3"
    }
  },
  "cells": [
    {
      "cell_type": "markdown",
      "metadata": {
        "id": "view-in-github",
        "colab_type": "text"
      },
      "source": [
        "<a href=\"https://colab.research.google.com/github/laienwu/WCS/blob/master/Yuka.ipynb\" target=\"_parent\"><img src=\"https://colab.research.google.com/assets/colab-badge.svg\" alt=\"Open In Colab\"/></a>"
      ]
    },
    {
      "cell_type": "code",
      "metadata": {
        "id": "PmJiWYzsncFZ",
        "outputId": "dda584fe-b3d2-464f-b826-d6ae20f35cb7",
        "colab": {
          "base_uri": "https://localhost:8080/",
          "height": 34
        }
      },
      "source": [
        "from google.colab import drive\n",
        "drive.mount('/content/gdrive')\n"
      ],
      "execution_count": null,
      "outputs": [
        {
          "output_type": "stream",
          "text": [
            "Drive already mounted at /content/gdrive; to attempt to forcibly remount, call drive.mount(\"/content/gdrive\", force_remount=True).\n"
          ],
          "name": "stdout"
        }
      ]
    },
    {
      "cell_type": "code",
      "metadata": {
        "id": "kDJTc5tGn2qJ",
        "outputId": "3d900ad7-a3a6-4801-c3d4-f62abbfdde1d",
        "colab": {
          "base_uri": "https://localhost:8080/",
          "height": 70
        }
      },
      "source": [
        "import pandas as pd\n",
        "# import os\n",
        "# os.getcwd()\n",
        "# os.listdir('/content/gdrive/My Drive/Colab Notebooks/')\n",
        "url='/content/gdrive/My Drive/Colab Notebooks/fr.openfoodfacts.org.products.csv'\n",
        "df=pd.read_csv(url, sep='\\t')"
      ],
      "execution_count": null,
      "outputs": [
        {
          "output_type": "stream",
          "text": [
            "/usr/local/lib/python3.6/dist-packages/IPython/core/interactiveshell.py:2718: DtypeWarning: Columns (0,3,5,19,20,24,25,26,27,28,35,36,37,38,39,48) have mixed types. Specify dtype option on import or set low_memory=False.\n",
            "  interactivity=interactivity, compiler=compiler, result=result)\n"
          ],
          "name": "stderr"
        }
      ]
    },
    {
      "cell_type": "code",
      "metadata": {
        "id": "kGCfgAZvpyYV",
        "outputId": "f20c0a69-ed30-4612-df22-9bed9b41c8d0",
        "colab": {
          "base_uri": "https://localhost:8080/",
          "height": 50
        }
      },
      "source": [
        "df1=df.copy()\n",
        "print(\"Fichier original : {} lignes, {} colonnes\".format(df1.shape[0], df1.shape[1]))\n",
        "liste_pays=[\"FR\",\"en:FR\",\"FRANCE\",\"France\"]\n",
        "df_fr= df1[df1.countries.isin(liste_pays)]\n",
        "print(\"Fichier fr : {} lignes, {} colonnes\".format(df_fr.shape[0], df_fr.shape[1]))"
      ],
      "execution_count": null,
      "outputs": [
        {
          "output_type": "stream",
          "text": [
            "Fichier original : 320772 lignes, 162 colonnes\n",
            "Fichier fr : 94298 lignes, 162 colonnes\n"
          ],
          "name": "stdout"
        }
      ]
    },
    {
      "cell_type": "code",
      "metadata": {
        "id": "G6NCKaILpyPY",
        "outputId": "2982bff7-2a93-405a-a874-46a64908f7d6",
        "colab": {
          "base_uri": "https://localhost:8080/",
          "height": 269
        }
      },
      "source": [
        "import pprint\n",
        "print(df_fr.shape)\n",
        "col = df1.columns.values.tolist()\n",
        "dico = {}\n",
        "# Get the columns with are the most filled\n",
        "for i in col:\n",
        "  tmp = len(df_fr[i].value_counts())\n",
        "  if tmp > df_fr.shape[0] * 0.2:\n",
        "    dico[i] = tmp\n",
        "pprint.pprint(dico)"
      ],
      "execution_count": null,
      "outputs": [
        {
          "output_type": "stream",
          "text": [
            "(94298, 162)\n",
            "{'additives': 43018,\n",
            " 'brands': 20022,\n",
            " 'categories': 25263,\n",
            " 'code': 94297,\n",
            " 'created_datetime': 93891,\n",
            " 'created_t': 93924,\n",
            " 'generic_name': 25715,\n",
            " 'image_small_url': 49396,\n",
            " 'image_url': 49396,\n",
            " 'ingredients_text': 46342,\n",
            " 'last_modified_datetime': 91567,\n",
            " 'last_modified_t': 91616,\n",
            " 'product_name': 71381,\n",
            " 'url': 94298}\n"
          ],
          "name": "stdout"
        }
      ]
    },
    {
      "cell_type": "code",
      "metadata": {
        "id": "oVKph5yln2hx",
        "outputId": "3e91715a-da30-455d-8ad7-11c79e03fe08",
        "colab": {
          "base_uri": "https://localhost:8080/",
          "height": 1058
        }
      },
      "source": [
        "tmp = len(df_fr) - df_fr.count()\n",
        "print(tmp[tmp>80000])"
      ],
      "execution_count": null,
      "outputs": [
        {
          "output_type": "stream",
          "text": [
            "cities                                        94298\n",
            "allergens_fr                                  94298\n",
            "no_nutriments                                 94298\n",
            "ingredients_from_palm_oil                     94298\n",
            "ingredients_from_palm_oil_tags                90917\n",
            "ingredients_that_may_be_from_palm_oil         94298\n",
            "ingredients_that_may_be_from_palm_oil_tags    88404\n",
            "nutrition_grade_uk                            94298\n",
            "energy-from-fat_100g                          94288\n",
            "butyric-acid_100g                             94298\n",
            "caproic-acid_100g                             94298\n",
            "caprylic-acid_100g                            94298\n",
            "capric-acid_100g                              94298\n",
            "lauric-acid_100g                              94297\n",
            "myristic-acid_100g                            94298\n",
            "palmitic-acid_100g                            94298\n",
            "stearic-acid_100g                             94298\n",
            "arachidic-acid_100g                           94297\n",
            "behenic-acid_100g                             94298\n",
            "lignoceric-acid_100g                          94298\n",
            "cerotic-acid_100g                             94298\n",
            "montanic-acid_100g                            94297\n",
            "melissic-acid_100g                            94298\n",
            "monounsaturated-fat_100g                      93219\n",
            "polyunsaturated-fat_100g                      93189\n",
            "omega-3-fat_100g                              93673\n",
            "alpha-linolenic-acid_100g                     94129\n",
            "eicosapentaenoic-acid_100g                    94281\n",
            "docosahexaenoic-acid_100g                     94260\n",
            "omega-6-fat_100g                              94163\n",
            "                                              ...  \n",
            "folates_100g                                  94297\n",
            "vitamin-b12_100g                              93830\n",
            "biotin_100g                                   94122\n",
            "pantothenic-acid_100g                         93923\n",
            "silica_100g                                   94277\n",
            "bicarbonate_100g                              94256\n",
            "potassium_100g                                94022\n",
            "chloride_100g                                 94196\n",
            "calcium_100g                                  92392\n",
            "phosphorus_100g                               93794\n",
            "iron_100g                                     93387\n",
            "magnesium_100g                                93601\n",
            "zinc_100g                                     94095\n",
            "copper_100g                                   94190\n",
            "manganese_100g                                94196\n",
            "fluoride_100g                                 94241\n",
            "selenium_100g                                 94213\n",
            "chromium_100g                                 94291\n",
            "molybdenum_100g                               94294\n",
            "iodine_100g                                   94184\n",
            "caffeine_100g                                 94267\n",
            "taurine_100g                                  94273\n",
            "ph_100g                                       94263\n",
            "fruits-vegetables-nuts_100g                   91409\n",
            "collagen-meat-protein-ratio_100g              94135\n",
            "cocoa_100g                                    93718\n",
            "chlorophyl_100g                               94298\n",
            "carbon-footprint_100g                         94129\n",
            "glycemic-index_100g                           94298\n",
            "water-hardness_100g                           94298\n",
            "Length: 96, dtype: int64\n"
          ],
          "name": "stdout"
        }
      ]
    },
    {
      "cell_type": "code",
      "metadata": {
        "id": "7-0Lsqs92_s6",
        "outputId": "b282dfa0-dec1-46ec-8734-1837ac9a7b5b",
        "colab": {
          "base_uri": "https://localhost:8080/",
          "height": 212
        }
      },
      "source": [
        "lc = ['product_name', 'code', 'nutrition_grade_fr', 'pnns_groups_1', 'pnns_groups_2', 'nutrition-score-fr_100g', 'nutrition-score-uk_100g']\n",
        "df_fr7 = df_fr[lc].reset_index(drop=True)\n",
        "print(\"Fichier fr pertient: {} lignes, {} colonnes\".format(df_fr7.shape[0], df_fr7.shape[1]))\n",
        "df_fr7.head()"
      ],
      "execution_count": null,
      "outputs": [
        {
          "output_type": "stream",
          "text": [
            "Fichier fr pertient: 94298 lignes, 7 colonnes\n"
          ],
          "name": "stdout"
        },
        {
          "output_type": "execute_result",
          "data": {
            "text/html": [
              "<div>\n",
              "<style scoped>\n",
              "    .dataframe tbody tr th:only-of-type {\n",
              "        vertical-align: middle;\n",
              "    }\n",
              "\n",
              "    .dataframe tbody tr th {\n",
              "        vertical-align: top;\n",
              "    }\n",
              "\n",
              "    .dataframe thead th {\n",
              "        text-align: right;\n",
              "    }\n",
              "</style>\n",
              "<table border=\"1\" class=\"dataframe\">\n",
              "  <thead>\n",
              "    <tr style=\"text-align: right;\">\n",
              "      <th></th>\n",
              "      <th>product_name</th>\n",
              "      <th>code</th>\n",
              "      <th>nutrition_grade_fr</th>\n",
              "      <th>pnns_groups_1</th>\n",
              "      <th>pnns_groups_2</th>\n",
              "      <th>nutrition-score-fr_100g</th>\n",
              "      <th>nutrition-score-uk_100g</th>\n",
              "    </tr>\n",
              "  </thead>\n",
              "  <tbody>\n",
              "    <tr>\n",
              "      <th>0</th>\n",
              "      <td>Farine de blé noir</td>\n",
              "      <td>3087</td>\n",
              "      <td>NaN</td>\n",
              "      <td>NaN</td>\n",
              "      <td>NaN</td>\n",
              "      <td>NaN</td>\n",
              "      <td>NaN</td>\n",
              "    </tr>\n",
              "    <tr>\n",
              "      <th>1</th>\n",
              "      <td>Filet de bœuf</td>\n",
              "      <td>24600</td>\n",
              "      <td>NaN</td>\n",
              "      <td>unknown</td>\n",
              "      <td>unknown</td>\n",
              "      <td>NaN</td>\n",
              "      <td>NaN</td>\n",
              "    </tr>\n",
              "    <tr>\n",
              "      <th>2</th>\n",
              "      <td>NaN</td>\n",
              "      <td>27205</td>\n",
              "      <td>NaN</td>\n",
              "      <td>NaN</td>\n",
              "      <td>NaN</td>\n",
              "      <td>NaN</td>\n",
              "      <td>NaN</td>\n",
              "    </tr>\n",
              "    <tr>\n",
              "      <th>3</th>\n",
              "      <td>Twix x2</td>\n",
              "      <td>39259</td>\n",
              "      <td>NaN</td>\n",
              "      <td>unknown</td>\n",
              "      <td>unknown</td>\n",
              "      <td>NaN</td>\n",
              "      <td>NaN</td>\n",
              "    </tr>\n",
              "    <tr>\n",
              "      <th>4</th>\n",
              "      <td>lentilles vertes</td>\n",
              "      <td>5200016</td>\n",
              "      <td>NaN</td>\n",
              "      <td>Cereals and potatoes</td>\n",
              "      <td>Legumes</td>\n",
              "      <td>NaN</td>\n",
              "      <td>NaN</td>\n",
              "    </tr>\n",
              "  </tbody>\n",
              "</table>\n",
              "</div>"
            ],
            "text/plain": [
              "         product_name     code nutrition_grade_fr         pnns_groups_1  \\\n",
              "0  Farine de blé noir     3087                NaN                   NaN   \n",
              "1       Filet de bœuf    24600                NaN               unknown   \n",
              "2                 NaN    27205                NaN                   NaN   \n",
              "3             Twix x2    39259                NaN               unknown   \n",
              "4   lentilles vertes   5200016                NaN  Cereals and potatoes   \n",
              "\n",
              "  pnns_groups_2  nutrition-score-fr_100g  nutrition-score-uk_100g  \n",
              "0           NaN                      NaN                      NaN  \n",
              "1       unknown                      NaN                      NaN  \n",
              "2           NaN                      NaN                      NaN  \n",
              "3       unknown                      NaN                      NaN  \n",
              "4       Legumes                      NaN                      NaN  "
            ]
          },
          "metadata": {
            "tags": []
          },
          "execution_count": 7
        }
      ]
    },
    {
      "cell_type": "code",
      "metadata": {
        "id": "6-79ULGi4kfn",
        "outputId": "6f4c3fcf-7131-4c45-ed4b-eb104c168c20",
        "colab": {
          "base_uri": "https://localhost:8080/",
          "height": 279
        }
      },
      "source": [
        "mask = ~df_fr7.nutrition_grade_fr.isna() | ~df_fr7['nutrition-score-fr_100g'].isna() |  ~df_fr7['nutrition-score-uk_100g'].isna()\n",
        "print(mask.iloc[8:12])\n",
        "df2 = df_fr7[mask]\n",
        "df2.head()\n"
      ],
      "execution_count": null,
      "outputs": [
        {
          "output_type": "stream",
          "text": [
            "8     False\n",
            "9     False\n",
            "10     True\n",
            "11     True\n",
            "dtype: bool\n"
          ],
          "name": "stdout"
        },
        {
          "output_type": "execute_result",
          "data": {
            "text/html": [
              "<div>\n",
              "<style scoped>\n",
              "    .dataframe tbody tr th:only-of-type {\n",
              "        vertical-align: middle;\n",
              "    }\n",
              "\n",
              "    .dataframe tbody tr th {\n",
              "        vertical-align: top;\n",
              "    }\n",
              "\n",
              "    .dataframe thead th {\n",
              "        text-align: right;\n",
              "    }\n",
              "</style>\n",
              "<table border=\"1\" class=\"dataframe\">\n",
              "  <thead>\n",
              "    <tr style=\"text-align: right;\">\n",
              "      <th></th>\n",
              "      <th>product_name</th>\n",
              "      <th>code</th>\n",
              "      <th>nutrition_grade_fr</th>\n",
              "      <th>pnns_groups_1</th>\n",
              "      <th>pnns_groups_2</th>\n",
              "      <th>nutrition-score-fr_100g</th>\n",
              "      <th>nutrition-score-uk_100g</th>\n",
              "    </tr>\n",
              "  </thead>\n",
              "  <tbody>\n",
              "    <tr>\n",
              "      <th>10</th>\n",
              "      <td>Mini Confettis</td>\n",
              "      <td>10187319</td>\n",
              "      <td>d</td>\n",
              "      <td>NaN</td>\n",
              "      <td>NaN</td>\n",
              "      <td>14.0</td>\n",
              "      <td>14.0</td>\n",
              "    </tr>\n",
              "    <tr>\n",
              "      <th>11</th>\n",
              "      <td>Praliné Amande Et Noisette</td>\n",
              "      <td>10207260</td>\n",
              "      <td>d</td>\n",
              "      <td>NaN</td>\n",
              "      <td>NaN</td>\n",
              "      <td>14.0</td>\n",
              "      <td>14.0</td>\n",
              "    </tr>\n",
              "    <tr>\n",
              "      <th>15</th>\n",
              "      <td>Pepsi, Nouveau goût !</td>\n",
              "      <td>40608754</td>\n",
              "      <td>e</td>\n",
              "      <td>Beverages</td>\n",
              "      <td>Sweetened beverages</td>\n",
              "      <td>13.0</td>\n",
              "      <td>2.0</td>\n",
              "    </tr>\n",
              "    <tr>\n",
              "      <th>18</th>\n",
              "      <td>Tarte Poireaux Et Lardons</td>\n",
              "      <td>69161025</td>\n",
              "      <td>d</td>\n",
              "      <td>NaN</td>\n",
              "      <td>NaN</td>\n",
              "      <td>15.0</td>\n",
              "      <td>15.0</td>\n",
              "    </tr>\n",
              "    <tr>\n",
              "      <th>19</th>\n",
              "      <td>7Up</td>\n",
              "      <td>87177756</td>\n",
              "      <td>e</td>\n",
              "      <td>Beverages</td>\n",
              "      <td>Sweetened beverages</td>\n",
              "      <td>13.0</td>\n",
              "      <td>2.0</td>\n",
              "    </tr>\n",
              "  </tbody>\n",
              "</table>\n",
              "</div>"
            ],
            "text/plain": [
              "                  product_name      code nutrition_grade_fr pnns_groups_1  \\\n",
              "10              Mini Confettis  10187319                  d           NaN   \n",
              "11  Praliné Amande Et Noisette  10207260                  d           NaN   \n",
              "15       Pepsi, Nouveau goût !  40608754                  e     Beverages   \n",
              "18   Tarte Poireaux Et Lardons  69161025                  d           NaN   \n",
              "19                         7Up  87177756                  e     Beverages   \n",
              "\n",
              "          pnns_groups_2  nutrition-score-fr_100g  nutrition-score-uk_100g  \n",
              "10                  NaN                     14.0                     14.0  \n",
              "11                  NaN                     14.0                     14.0  \n",
              "15  Sweetened beverages                     13.0                      2.0  \n",
              "18                  NaN                     15.0                     15.0  \n",
              "19  Sweetened beverages                     13.0                      2.0  "
            ]
          },
          "metadata": {
            "tags": []
          },
          "execution_count": 8
        }
      ]
    },
    {
      "cell_type": "code",
      "metadata": {
        "id": "g3dtPfiGg5zA",
        "outputId": "531fa3c0-7b19-42ce-c45f-117466d7ed5d",
        "colab": {
          "base_uri": "https://localhost:8080/",
          "height": 47
        }
      },
      "source": [
        "df2[df2['pnns_groups_2'] == 'artifically']"
      ],
      "execution_count": null,
      "outputs": [
        {
          "output_type": "execute_result",
          "data": {
            "text/html": [
              "<div>\n",
              "<style scoped>\n",
              "    .dataframe tbody tr th:only-of-type {\n",
              "        vertical-align: middle;\n",
              "    }\n",
              "\n",
              "    .dataframe tbody tr th {\n",
              "        vertical-align: top;\n",
              "    }\n",
              "\n",
              "    .dataframe thead th {\n",
              "        text-align: right;\n",
              "    }\n",
              "</style>\n",
              "<table border=\"1\" class=\"dataframe\">\n",
              "  <thead>\n",
              "    <tr style=\"text-align: right;\">\n",
              "      <th></th>\n",
              "      <th>product_name</th>\n",
              "      <th>code</th>\n",
              "      <th>nutrition_grade_fr</th>\n",
              "      <th>pnns_groups_1</th>\n",
              "      <th>pnns_groups_2</th>\n",
              "      <th>nutrition-score-fr_100g</th>\n",
              "      <th>nutrition-score-uk_100g</th>\n",
              "    </tr>\n",
              "  </thead>\n",
              "  <tbody>\n",
              "  </tbody>\n",
              "</table>\n",
              "</div>"
            ],
            "text/plain": [
              "Empty DataFrame\n",
              "Columns: [product_name, code, nutrition_grade_fr, pnns_groups_1, pnns_groups_2, nutrition-score-fr_100g, nutrition-score-uk_100g]\n",
              "Index: []"
            ]
          },
          "metadata": {
            "tags": []
          },
          "execution_count": 9
        }
      ]
    },
    {
      "cell_type": "code",
      "metadata": {
        "id": "5EYJIX567MBX",
        "outputId": "2fd57039-6d2e-49e7-edd4-6a755fcc7dbf",
        "colab": {
          "base_uri": "https://localhost:8080/",
          "height": 773
        }
      },
      "source": [
        "for i in ['a', 'b', 'c', 'd', 'e']:\n",
        "  print(df2[df2.nutrition_grade_fr == i].describe())"
      ],
      "execution_count": null,
      "outputs": [
        {
          "output_type": "stream",
          "text": [
            "       nutrition-score-fr_100g  nutrition-score-uk_100g\n",
            "count              9793.000000              9793.000000\n",
            "mean                 -3.643112                -3.643521\n",
            "std                   2.319675                 2.318857\n",
            "min                 -15.000000               -15.000000\n",
            "25%                  -5.000000                -5.000000\n",
            "50%                  -3.000000                -3.000000\n",
            "75%                  -2.000000                -2.000000\n",
            "max                  10.000000                 8.000000\n",
            "       nutrition-score-fr_100g  nutrition-score-uk_100g\n",
            "count              8826.000000              8826.000000\n",
            "mean                  0.893610                 0.828915\n",
            "std                   0.950747                 1.110632\n",
            "min                  -8.000000                -8.000000\n",
            "25%                   0.000000                 0.000000\n",
            "50%                   1.000000                 1.000000\n",
            "75%                   2.000000                 2.000000\n",
            "max                   2.000000                10.000000\n",
            "       nutrition-score-fr_100g  nutrition-score-uk_100g\n",
            "count             12615.000000             12615.000000\n",
            "mean                  5.654221                 5.230361\n",
            "std                   2.462075                 3.713911\n",
            "min                   2.000000                -7.000000\n",
            "25%                   4.000000                 3.000000\n",
            "50%                   5.000000                 5.000000\n",
            "75%                   8.000000                 8.000000\n",
            "max                  10.000000                19.000000\n",
            "       nutrition-score-fr_100g  nutrition-score-uk_100g\n",
            "count             16153.000000             16153.000000\n",
            "mean                 13.812976                14.132483\n",
            "std                   2.532038                 4.058531\n",
            "min                   6.000000                -7.000000\n",
            "25%                  12.000000                12.000000\n",
            "50%                  14.000000                14.000000\n",
            "75%                  16.000000                17.000000\n",
            "max                  18.000000                23.000000\n",
            "       nutrition-score-fr_100g  nutrition-score-uk_100g\n",
            "count             11056.000000             11056.000000\n",
            "mean                 21.346509                19.779848\n",
            "std                   3.988830                 7.333795\n",
            "min                  10.000000                -7.000000\n",
            "25%                  19.000000                19.000000\n",
            "50%                  21.000000                21.000000\n",
            "75%                  24.000000                24.000000\n",
            "max                  40.000000                36.000000\n"
          ],
          "name": "stdout"
        }
      ]
    },
    {
      "cell_type": "code",
      "metadata": {
        "id": "5xA-0DaM73ST"
      },
      "source": [
        ""
      ],
      "execution_count": null,
      "outputs": []
    },
    {
      "cell_type": "markdown",
      "metadata": {
        "id": "XABiHyV27Lt2"
      },
      "source": [
        ""
      ]
    }
  ]
}