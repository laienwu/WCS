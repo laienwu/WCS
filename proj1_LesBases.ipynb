{
  "nbformat": 4,
  "nbformat_minor": 0,
  "metadata": {
    "kernelspec": {
      "display_name": "Python 3",
      "language": "python",
      "name": "python3"
    },
    "language_info": {
      "codemirror_mode": {
        "name": "ipython",
        "version": 3
      },
      "file_extension": ".py",
      "mimetype": "text/x-python",
      "name": "python",
      "nbconvert_exporter": "python",
      "pygments_lexer": "ipython3",
      "version": "3.7.3"
    },
    "colab": {
      "name": "proj1_LesBases.ipynb",
      "provenance": [],
      "include_colab_link": true
    }
  },
  "cells": [
    {
      "cell_type": "markdown",
      "metadata": {
        "id": "view-in-github",
        "colab_type": "text"
      },
      "source": [
        "<a href=\"https://colab.research.google.com/github/laienwu/WCS/blob/master/proj1_LesBases.ipynb\" target=\"_parent\"><img src=\"https://colab.research.google.com/assets/colab-badge.svg\" alt=\"Open In Colab\"/></a>"
      ]
    },
    {
      "cell_type": "markdown",
      "metadata": {
        "id": "1NF4500eXx69",
        "colab_type": "text"
      },
      "source": [
        "# Projet 1 : Text Parser"
      ]
    },
    {
      "cell_type": "markdown",
      "metadata": {
        "id": "S3_pvoMJXx7E",
        "colab_type": "text"
      },
      "source": [
        "### Objectifs:\n",
        "\n",
        "Mettre en pratique à travers un projet les connaissances acquises sur les fondamenteaux du langage Python\n",
        "\n",
        "Continuer la prise en main du langage python\n"
      ]
    },
    {
      "cell_type": "markdown",
      "metadata": {
        "id": "LF8FqhLBXx7J",
        "colab_type": "text"
      },
      "source": [
        "## Enoncé\n",
        "\n",
        "Mettons en place un parseur de texte, On considère le poème fourni en PJ (lanuitdelamort.michel.txt sur le drive)\n",
        "\n",
        "Suivre les étapes de projets suivantes:\n"
      ]
    },
    {
      "cell_type": "markdown",
      "metadata": {
        "id": "bj8A-r3kXx7N",
        "colab_type": "text"
      },
      "source": [
        "### 1\n",
        "* Écrire une fonction qui, part d'un chemin de fichier qui contient un poème, numérotera les lignes du poèmes suivi d'une tabulation (marquée par \"\\t\") et retournera la nouvelle version du texte.\n",
        "\n",
        "Les lignes vides ne seront pas numérotées.\n",
        "\n",
        "**indication**  \n",
        "- `.split()` peut prendre un argument correspondant à la valeur sur laquelle découper un texte. `.split('\\n')` découpera un texte sur les nouvelles lignes"
      ]
    },
    {
      "cell_type": "code",
      "metadata": {
        "id": "vW6bkPILXx7S",
        "colab_type": "code",
        "colab": {}
      },
      "source": [
        "def numeroter_poeme(chemin_de_fichier):\n",
        "f=open(chemin_de_fichier,'r')\n",
        "    poem=[]\n",
        "    i=0\n",
        "    for line in f:\n",
        "        tmp=line.split('\\n')[0]\n",
        "        if tmp!=\"\":\n",
        "            poem.append(str(i+1)+'\\t'+tmp)\n",
        "            i=i+1\n",
        "    return poem\n"
      ],
      "execution_count": 0,
      "outputs": []
    },
    {
      "cell_type": "markdown",
      "metadata": {
        "id": "ckUH7Qz7a5U_",
        "colab_type": "text"
      },
      "source": [
        "# New Section"
      ]
    },
    {
      "cell_type": "code",
      "metadata": {
        "id": "YFtzV-erXx7k",
        "colab_type": "code",
        "outputId": "11fabcef-7018-4ca3-80f5-62e90dc993e2",
        "colab": {}
      },
      "source": [
        "# Code pour tester le résultat\n",
        "poeme = numeroter_poeme(\"lanuitdelamort.michel.txt\")\n",
        "\n",
        "# Pour débugguer\n",
        "print(poeme)\n",
        "\n",
        "# Pour tester\n",
        "assert \"5\\tJamais, jamais le dernier jour\" in poeme\n",
        "assert \"13\\tElle monte et les couvrira.\" in poeme"
      ],
      "execution_count": 0,
      "outputs": [
        {
          "output_type": "stream",
          "text": [
            "['1\\tDies irœ, Dies illa', '2\\tSolvet scelum in favilla.', '3\\tJamais ne viendra donc la fin ?', '4\\tDorment-ils tous, les meurt-de-faim ?', '5\\tJamais, jamais le dernier jour', '6\\tNe les jettera-t-il à leur tour', '7\\tDans les angoisses de la mort,', '8\\tCes bandits que la rage mord ?', '9\\tToujours, esclaves et bourreaux,', '10\\tPâtiront-ils leurs échafauds ?', '11\\tAmis, dans l’ombre entendez-vous', '12\\tGronder la mer aux noirs remous ?', '13\\tElle monte et les couvrira.', '14\\tDies irae, Dies illa...', '15\\tElle couvre, pourpre de sang,', '16\\tL’Elysée et le Vatican.', '17\\tCompagnons, arrachons nos cœurs,', '18\\tNe soyons plus que des vengeurs.', '19\\tPassons, effrayants et maudits,', '20\\tAfin que les maux soient finis.', '21\\tComblons l’abîme avec nos corps.', '22\\tAmis, n’oubliez pas les morts...', '23\\tLa légende des temps nouveaux', '24\\tFleurira parmi les tombeaux.', '25\\tC’est le destin ; le maître est dur.', '26\\tC’est pourquoi le fer sera pur.', '27\\tDies irae, Dies illa,', '28\\tSolvet scelum, in favina.']\n"
          ],
          "name": "stdout"
        }
      ]
    },
    {
      "cell_type": "markdown",
      "metadata": {
        "id": "XVN7OFYdXx7v",
        "colab_type": "text"
      },
      "source": [
        "###  2\n",
        "\n",
        "Ecrire une fonction qui renvoie une liste de vers annotés en tuples."
      ]
    },
    {
      "cell_type": "code",
      "metadata": {
        "id": "Nizuu2ydXx7y",
        "colab_type": "code",
        "colab": {}
      },
      "source": [
        "def numeroter_poeme(chemin_de_fichier):\n",
        "    #TBD"
      ],
      "execution_count": 0,
      "outputs": []
    },
    {
      "cell_type": "code",
      "metadata": {
        "scrolled": true,
        "id": "B7CCQFCjXx78",
        "colab_type": "code",
        "outputId": "c1e71878-15c1-4634-9a66-0d5a443fb575",
        "colab": {}
      },
      "source": [
        "# Code pour tester le résultat\n",
        "poeme = numeroter_poeme(\"lanuitdelamort.michel.txt\")\n",
        "\n",
        "print(poeme)\n",
        "assert (5, \"Jamais, jamais le dernier jour\") == poeme[4]\n",
        "assert (13, \"Elle monte et les couvrira.\") == poeme[12]"
      ],
      "execution_count": 0,
      "outputs": [
        {
          "output_type": "stream",
          "text": [
            "[(1, 'Dies irœ, Dies illa'), (2, 'Solvet scelum in favilla.'), (3, 'Jamais ne viendra donc la fin ?'), (4, 'Dorment-ils tous, les meurt-de-faim ?'), (5, 'Jamais, jamais le dernier jour'), (6, 'Ne les jettera-t-il à leur tour'), (7, 'Dans les angoisses de la mort,'), (8, 'Ces bandits que la rage mord ?'), (9, 'Toujours, esclaves et bourreaux,'), (10, 'Pâtiront-ils leurs échafauds ?'), (11, 'Amis, dans l’ombre entendez-vous'), (12, 'Gronder la mer aux noirs remous ?'), (13, 'Elle monte et les couvrira.'), (14, 'Dies irae, Dies illa...'), (15, 'Elle couvre, pourpre de sang,'), (16, 'L’Elysée et le Vatican.'), (17, 'Compagnons, arrachons nos cœurs,'), (18, 'Ne soyons plus que des vengeurs.'), (19, 'Passons, effrayants et maudits,'), (20, 'Afin que les maux soient finis.'), (21, 'Comblons l’abîme avec nos corps.'), (22, 'Amis, n’oubliez pas les morts...'), (23, 'La légende des temps nouveaux'), (24, 'Fleurira parmi les tombeaux.'), (25, 'C’est le destin ; le maître est dur.'), (26, 'C’est pourquoi le fer sera pur.'), (27, 'Dies irae, Dies illa,'), (28, 'Solvet scelum, in favina.')]\n"
          ],
          "name": "stdout"
        }
      ]
    },
    {
      "cell_type": "markdown",
      "metadata": {
        "id": "JZ2b_rJ4Xx8E",
        "colab_type": "text"
      },
      "source": [
        "### 3\n",
        "\n",
        "Maintenant, on traitera à la fois les vers et les strophes. Pour faire ceci, la fonction `numeroter_poeme_avec_strophe` devra prendre en compte que deux sauts de ligne (ou une ligne vide) équivaut à un changement de strophe.\n",
        "\n",
        "La valeur de retour de la fonction sera une liste de listes correspondant aux strophes de tuples correspondant aux vers avec numéros. \n",
        "\n",
        "Exemple :\n",
        "\n",
        "```python\n",
        "[[(1, 'Mon doulz ami, vueilliez moy pardonner,'),\n",
        "  (2, 'Se je ne puis, si tost com je vouldroye,'),\n",
        "  (3, 'Parler a vous, car ainçois ordener'),\n",
        "  (4, 'Me fault comment sera, ne par quel voye.'),\n",
        "  (5, 'Car mesdisans me vont gaitant'),\n",
        "  (6, 'Qui du meschief et du mal me font tant,'),\n",
        "  (7, 'Que je ne puis joye ne bien avoir,'),\n",
        "  (8, 'Pour le desir que j’ay de vous veoir.')],\n",
        " [(9, 'Si pry a Dieu qu’il leur vueille donner'),\n",
        "  (10, 'La mort briefment ; car leur vie m’anoye,'),\n",
        "  (11, 'Pour ce qu’en dueil me font mes jours finer'),\n",
        "  (12, 'Sanz vous veoir, ou est toute ma joye'),\n",
        "  (13, 'Car ilz se vont entremettant'),\n",
        "  (14, 'De moy gaitier nuit et jour, mais pourtant'),\n",
        "  (15, 'Ne vous oubli, ce pouez vous savoir,'),\n",
        "  (16, 'Pour le desir que j’ay de vous veoir.')],\n",
        " [(17, 'Mais ne sçaront ja eulx si fort pener,'),\n",
        "  (18, 'Que, maugré tous, bien briefment ne vous voie.'),\n",
        "  (19, 'Car tant feray, se g’y puis assener,'),\n",
        "  (20, 'Que vous verray, quoy qu’avenir m’en doye,'),\n",
        "  (21, 'Et vous feray savoir quant.'),\n",
        "  (22, 'Mon doulz ami, deportez vous atant.'),\n",
        "  (23, 'Car g’y mettray peine, sachiez de voir,'),\n",
        "  (24, 'Pour le desir que j’ay de vous veoir.')]]\n",
        "```\n",
        "\n",
        "**indication** \n",
        "- une ligne vide est équivalent à `False` "
      ]
    },
    {
      "cell_type": "code",
      "metadata": {
        "scrolled": true,
        "id": "0ets3-UeXx8G",
        "colab_type": "code",
        "outputId": "75d73606-07a5-4ab6-af26-6cac6f29ba79",
        "colab": {}
      },
      "source": [
        "        \n",
        "poeme = numeroter_poeme_avec_strophe(\"lanuitdelamort.michel_orig.txt\")\n",
        "print (poeme)\n",
        "assert poeme[3] == [(27, 'Dies irae, Dies illa,'), (28, 'Solvet scelum, in favina.')]\n",
        "  "
      ],
      "execution_count": 0,
      "outputs": [
        {
          "output_type": "stream",
          "text": [
            "[[(1, 'Dies irœ, Dies illa'), (2, 'Solvet scelum in favilla.'), (3, 'Jamais ne viendra donc la fin ?'), (4, 'Dorment-ils tous, les meurt-de-faim ?'), (5, 'Jamais, jamais le dernier jour'), (6, 'Ne les jettera-t-il à leur tour'), (7, 'Dans les angoisses de la mort,'), (8, 'Ces bandits que la rage mord ?')], [(9, 'Toujours, esclaves et bourreaux,'), (10, 'Pâtiront-ils leurs échafauds ?'), (11, 'Amis, dans l’ombre entendez-vous'), (12, 'Gronder la mer aux noirs remous ?'), (13, 'Elle monte et les couvrira.'), (14, 'Dies irae, Dies illa...'), (15, 'Elle couvre, pourpre de sang,'), (16, 'L’Elysée et le Vatican.'), (17, 'Compagnons, arrachons nos cœurs,'), (18, 'Ne soyons plus que des vengeurs.')], [(19, 'Passons, effrayants et maudits,'), (20, 'Afin que les maux soient finis.'), (21, 'Comblons l’abîme avec nos corps.'), (22, 'Amis, n’oubliez pas les morts...'), (23, 'La légende des temps nouveaux'), (24, 'Fleurira parmi les tombeaux.'), (25, 'C’est le destin ; le maître est dur.'), (26, 'C’est pourquoi le fer sera pur.')], [(27, 'Dies irae, Dies illa,'), (28, 'Solvet scelum, in favina.')], []]\n"
          ],
          "name": "stdout"
        }
      ]
    },
    {
      "cell_type": "markdown",
      "metadata": {
        "id": "DRhYVh7mXx8P",
        "colab_type": "text"
      },
      "source": [
        "=> Vérifier et tester votre code sur un 2ème texte!\n",
        "\n"
      ]
    },
    {
      "cell_type": "code",
      "metadata": {
        "id": "6CNkWgX8Xx8R",
        "colab_type": "code",
        "colab": {}
      },
      "source": [
        ""
      ],
      "execution_count": 0,
      "outputs": []
    }
  ]
}