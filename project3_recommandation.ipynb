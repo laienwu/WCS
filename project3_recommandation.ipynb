{
  "nbformat": 4,
  "nbformat_minor": 0,
  "metadata": {
    "colab": {
      "name": "project3_recommandation.ipynb",
      "provenance": [],
      "collapsed_sections": [],
      "include_colab_link": true
    },
    "kernelspec": {
      "name": "python3",
      "display_name": "Python 3"
    }
  },
  "cells": [
    {
      "cell_type": "markdown",
      "metadata": {
        "id": "view-in-github",
        "colab_type": "text"
      },
      "source": [
        "<a href=\"https://colab.research.google.com/github/laienwu/WCS/blob/master/project3_recommandation.ipynb\" target=\"_parent\"><img src=\"https://colab.research.google.com/assets/colab-badge.svg\" alt=\"Open In Colab\"/></a>"
      ]
    },
    {
      "cell_type": "code",
      "metadata": {
        "id": "XjlNGibUU7Ce"
      },
      "source": [
        "import numpy as np\n",
        "import pandas as pd\n",
        "pd.set_option('display.max_rows', 500)\n",
        "pd.set_option('display.max_columns', 500)\n",
        "pd.set_option('display.width', 1000)"
      ],
      "execution_count": null,
      "outputs": []
    },
    {
      "cell_type": "code",
      "metadata": {
        "id": "7IDfapodVDnU",
        "outputId": "6802e9fc-2492-43b9-8f7e-20a77eaf79e7",
        "colab": {
          "base_uri": "https://localhost:8080/",
          "height": 124
        }
      },
      "source": [
        "from google.colab import drive\n",
        "drive.mount('/content/gdrive')"
      ],
      "execution_count": null,
      "outputs": [
        {
          "output_type": "stream",
          "text": [
            "Go to this URL in a browser: https://accounts.google.com/o/oauth2/auth?client_id=947318989803-6bn6qk8qdgf4n4g3pfee6491hc0brc4i.apps.googleusercontent.com&redirect_uri=urn%3Aietf%3Awg%3Aoauth%3A2.0%3Aoob&scope=email%20https%3A%2F%2Fwww.googleapis.com%2Fauth%2Fdocs.test%20https%3A%2F%2Fwww.googleapis.com%2Fauth%2Fdrive%20https%3A%2F%2Fwww.googleapis.com%2Fauth%2Fdrive.photos.readonly%20https%3A%2F%2Fwww.googleapis.com%2Fauth%2Fpeopleapi.readonly&response_type=code\n",
            "\n",
            "Enter your authorization code:\n",
            "··········\n",
            "Mounted at /content/gdrive\n"
          ],
          "name": "stdout"
        }
      ]
    },
    {
      "cell_type": "code",
      "metadata": {
        "id": "QCIOAptKVMez"
      },
      "source": [
        "url='/content/gdrive/My Drive/Colab Notebooks/Project3/movie_metadata.csv'\n",
        "data=pd.read_csv(url)"
      ],
      "execution_count": null,
      "outputs": []
    },
    {
      "cell_type": "code",
      "metadata": {
        "id": "i6ahZMyjjQYD"
      },
      "source": [
        "df1=df.cpoy()"
      ],
      "execution_count": null,
      "outputs": []
    },
    {
      "cell_type": "code",
      "metadata": {
        "id": "G3gxR99WRkiu"
      },
      "source": [
        "data_use=data.loc[:,['genres','plot_keywords','movie_title','actor_1_name','actor_2_name','actor_3_name','director_name','imdb_score']]\n",
        "data_use['movie_title']=[i.replace(\"\\xa0\",\"\") for i in list(data_use['movie_title'])]"
      ],
      "execution_count": null,
      "outputs": []
    },
    {
      "cell_type": "code",
      "metadata": {
        "id": "jwyZgzxdSccf",
        "outputId": "58265349-9a50-48fb-8a57-87af79240fee",
        "colab": {
          "base_uri": "https://localhost:8080/",
          "height": 363
        }
      },
      "source": [
        "print(data_use.shape)\n",
        "clean_data3 = data_use.dropna(axis = 0)\n",
        "print(clean_data3.shape)\n",
        "clean_data3 = clean_data3.drop_duplicates(['movie_title'])\n",
        "clean_data3 = clean_data3.reset_index(drop = True)\n",
        "print(clean_data3.shape)\n",
        "clean_data3.head()"
      ],
      "execution_count": null,
      "outputs": [
        {
          "output_type": "stream",
          "text": [
            "(5043, 8)\n",
            "(4781, 8)\n",
            "(4659, 8)\n"
          ],
          "name": "stdout"
        },
        {
          "output_type": "execute_result",
          "data": {
            "text/html": [
              "<div>\n",
              "<style scoped>\n",
              "    .dataframe tbody tr th:only-of-type {\n",
              "        vertical-align: middle;\n",
              "    }\n",
              "\n",
              "    .dataframe tbody tr th {\n",
              "        vertical-align: top;\n",
              "    }\n",
              "\n",
              "    .dataframe thead th {\n",
              "        text-align: right;\n",
              "    }\n",
              "</style>\n",
              "<table border=\"1\" class=\"dataframe\">\n",
              "  <thead>\n",
              "    <tr style=\"text-align: right;\">\n",
              "      <th></th>\n",
              "      <th>genres</th>\n",
              "      <th>plot_keywords</th>\n",
              "      <th>movie_title</th>\n",
              "      <th>actor_1_name</th>\n",
              "      <th>actor_2_name</th>\n",
              "      <th>actor_3_name</th>\n",
              "      <th>director_name</th>\n",
              "      <th>imdb_score</th>\n",
              "    </tr>\n",
              "  </thead>\n",
              "  <tbody>\n",
              "    <tr>\n",
              "      <th>0</th>\n",
              "      <td>Action|Adventure|Fantasy|Sci-Fi</td>\n",
              "      <td>avatar|future|marine|native|paraplegic</td>\n",
              "      <td>Avatar</td>\n",
              "      <td>CCH Pounder</td>\n",
              "      <td>Joel David Moore</td>\n",
              "      <td>Wes Studi</td>\n",
              "      <td>James Cameron</td>\n",
              "      <td>7.9</td>\n",
              "    </tr>\n",
              "    <tr>\n",
              "      <th>1</th>\n",
              "      <td>Action|Adventure|Fantasy</td>\n",
              "      <td>goddess|marriage ceremony|marriage proposal|pi...</td>\n",
              "      <td>Pirates of the Caribbean: At World's End</td>\n",
              "      <td>Johnny Depp</td>\n",
              "      <td>Orlando Bloom</td>\n",
              "      <td>Jack Davenport</td>\n",
              "      <td>Gore Verbinski</td>\n",
              "      <td>7.1</td>\n",
              "    </tr>\n",
              "    <tr>\n",
              "      <th>2</th>\n",
              "      <td>Action|Adventure|Thriller</td>\n",
              "      <td>bomb|espionage|sequel|spy|terrorist</td>\n",
              "      <td>Spectre</td>\n",
              "      <td>Christoph Waltz</td>\n",
              "      <td>Rory Kinnear</td>\n",
              "      <td>Stephanie Sigman</td>\n",
              "      <td>Sam Mendes</td>\n",
              "      <td>6.8</td>\n",
              "    </tr>\n",
              "    <tr>\n",
              "      <th>3</th>\n",
              "      <td>Action|Thriller</td>\n",
              "      <td>deception|imprisonment|lawlessness|police offi...</td>\n",
              "      <td>The Dark Knight Rises</td>\n",
              "      <td>Tom Hardy</td>\n",
              "      <td>Christian Bale</td>\n",
              "      <td>Joseph Gordon-Levitt</td>\n",
              "      <td>Christopher Nolan</td>\n",
              "      <td>8.5</td>\n",
              "    </tr>\n",
              "    <tr>\n",
              "      <th>4</th>\n",
              "      <td>Action|Adventure|Sci-Fi</td>\n",
              "      <td>alien|american civil war|male nipple|mars|prin...</td>\n",
              "      <td>John Carter</td>\n",
              "      <td>Daryl Sabara</td>\n",
              "      <td>Samantha Morton</td>\n",
              "      <td>Polly Walker</td>\n",
              "      <td>Andrew Stanton</td>\n",
              "      <td>6.6</td>\n",
              "    </tr>\n",
              "  </tbody>\n",
              "</table>\n",
              "</div>"
            ],
            "text/plain": [
              "                            genres                                      plot_keywords                               movie_title     actor_1_name      actor_2_name          actor_3_name      director_name  imdb_score\n",
              "0  Action|Adventure|Fantasy|Sci-Fi             avatar|future|marine|native|paraplegic                                    Avatar      CCH Pounder  Joel David Moore             Wes Studi      James Cameron         7.9\n",
              "1         Action|Adventure|Fantasy  goddess|marriage ceremony|marriage proposal|pi...  Pirates of the Caribbean: At World's End      Johnny Depp     Orlando Bloom        Jack Davenport     Gore Verbinski         7.1\n",
              "2        Action|Adventure|Thriller                bomb|espionage|sequel|spy|terrorist                                   Spectre  Christoph Waltz      Rory Kinnear      Stephanie Sigman         Sam Mendes         6.8\n",
              "3                  Action|Thriller  deception|imprisonment|lawlessness|police offi...                     The Dark Knight Rises        Tom Hardy    Christian Bale  Joseph Gordon-Levitt  Christopher Nolan         8.5\n",
              "4          Action|Adventure|Sci-Fi  alien|american civil war|male nipple|mars|prin...                               John Carter     Daryl Sabara   Samantha Morton          Polly Walker     Andrew Stanton         6.6"
            ]
          },
          "metadata": {
            "tags": []
          },
          "execution_count": 6
        }
      ]
    },
    {
      "cell_type": "code",
      "metadata": {
        "id": "w0RKiEVIvsAG"
      },
      "source": [
        "people_list = []\n",
        "for i in range(clean_data3.shape[0]):\n",
        "    name1 = clean_data3.loc[i, 'actor_1_name'].replace(\"_\", \" \")\n",
        "    name2 = clean_data3.loc[i, 'actor_2_name'].replace(\"_\", \" \")\n",
        "    name3 = clean_data3.loc[i, 'actor_3_name'].replace(\"_\", \" \")\n",
        "    name4 = clean_data3.loc[i, 'director_name'].replace(\"_\", \" \")\n",
        "    people_list.append(\"\\xa0\".join([name1, name2, name3, name4]))\n",
        "clean_data3['people'] = people_list"
      ],
      "execution_count": null,
      "outputs": []
    },
    {
      "cell_type": "code",
      "metadata": {
        "id": "kaVhePTTapYp"
      },
      "source": [
        "from sklearn.feature_extraction.text import CountVectorizer\n",
        "\n",
        "def token(text):\n",
        "    return(text.split(\"_\"))\n",
        "\n",
        "cv_kw=CountVectorizer(max_features=100,tokenizer=token )\n",
        "keywords = cv_kw.fit_transform(clean_data3['plot_keywords'])\n",
        "keywords_list = [\"kw_\" + i for i in cv_kw.get_feature_names()]\n",
        "\n",
        "cv_ge=CountVectorizer(tokenizer=token )\n",
        "genres = cv_ge.fit_transform(clean_data3['genres'])\n",
        "genres_list = ['genres_' + i for i in cv_ge.get_feature_names()]\n",
        "\n",
        "cv_pp=CountVectorizer(max_features=100,tokenizer=token )\n",
        "people = cv_pp.fit_transform(clean_data3['plot_keywords'])\n",
        "people_list = [\"pp_\" + i for i in cv_pp.get_feature_names()]\n",
        "\n",
        "cluster_data=np.hstack([keywords.todense(),genres.todense(),people.todense()*2])\n",
        "criterion_list=keywords_list+genres_list+people_list"
      ],
      "execution_count": null,
      "outputs": []
    },
    {
      "cell_type": "code",
      "metadata": {
        "id": "Gbu-mgxNwEIT"
      },
      "source": [
        "from sklearn.cluster import KMeans\n",
        "mod = KMeans(n_clusters=100)\n",
        "category = mod.fit_predict(cluster_data)\n",
        "category_dataframe = pd.DataFrame({\"category\":category}, index = clean_data3['movie_title'])"
      ],
      "execution_count": null,
      "outputs": []
    },
    {
      "cell_type": "code",
      "metadata": {
        "id": "ptDaezniwJxe"
      },
      "source": [
        "#clean_data3.loc[list(category_dataframe['category'] == 0), ['genres', 'movie_title', 'people']]"
      ],
      "execution_count": null,
      "outputs": []
    },
    {
      "cell_type": "code",
      "metadata": {
        "id": "BkHomy_4wkkC",
        "outputId": "edfa6dfd-408a-4141-f780-5e22ec14708d",
        "colab": {
          "base_uri": "https://localhost:8080/",
          "height": 34
        }
      },
      "source": [
        "def recommend (movie_name,recommend_number= 5) : \n",
        "  if movie_name in list(clean_data3['movie_title']):\n",
        "    movie_cluster = category_dataframe.loc[movie_name, 'category']\n",
        "    print(\"movie_cluster :\", movie_cluster)\n",
        "    score = clean_data3.loc[list(category_dataframe['category'] == movie_cluster),\n",
        "                          ['imdb_score', 'movie_title']]\n",
        "    sort_score = score.sort_values(['imdb_score'],ascending=False)\n",
        "    sort_score = sort_score[sort_score['movie_title'] != movie_name]\n",
        "    recommend_number = min(sort_score.shape[0], recommend_number)\n",
        "    print(recommend_number)\n",
        "    recommend_movie = list(sort_score.iloc[range(recommend_number),1])\n",
        "    print(recommend_movie)\n",
        "  else:\n",
        "    print(\"Can't find this movie!\")\n",
        "\n",
        "recommend('Nikita')    "
      ],
      "execution_count": null,
      "outputs": [
        {
          "output_type": "stream",
          "text": [
            "Can't find this movie!\n"
          ],
          "name": "stdout"
        }
      ]
    },
    {
      "cell_type": "code",
      "metadata": {
        "id": "AGN2UcAWqEp-",
        "outputId": "841df418-2c75-4fe4-da93-6e1de23cbbd5",
        "colab": {
          "base_uri": "https://localhost:8080/",
          "height": 49
        }
      },
      "source": [
        "clean_data3[clean_data3['movie_title'].values=='Daredevil']"
      ],
      "execution_count": null,
      "outputs": [
        {
          "output_type": "execute_result",
          "data": {
            "text/html": [
              "<div>\n",
              "<style scoped>\n",
              "    .dataframe tbody tr th:only-of-type {\n",
              "        vertical-align: middle;\n",
              "    }\n",
              "\n",
              "    .dataframe tbody tr th {\n",
              "        vertical-align: top;\n",
              "    }\n",
              "\n",
              "    .dataframe thead th {\n",
              "        text-align: right;\n",
              "    }\n",
              "</style>\n",
              "<table border=\"1\" class=\"dataframe\">\n",
              "  <thead>\n",
              "    <tr style=\"text-align: right;\">\n",
              "      <th></th>\n",
              "      <th>genres</th>\n",
              "      <th>plot_keywords</th>\n",
              "      <th>movie_title</th>\n",
              "      <th>actor_1_name</th>\n",
              "      <th>actor_2_name</th>\n",
              "      <th>actor_3_name</th>\n",
              "      <th>director_name</th>\n",
              "      <th>imdb_score</th>\n",
              "      <th>people</th>\n",
              "    </tr>\n",
              "  </thead>\n",
              "  <tbody>\n",
              "  </tbody>\n",
              "</table>\n",
              "</div>"
            ],
            "text/plain": [
              "Empty DataFrame\n",
              "Columns: [genres, plot_keywords, movie_title, actor_1_name, actor_2_name, actor_3_name, director_name, imdb_score, people]\n",
              "Index: []"
            ]
          },
          "metadata": {
            "tags": []
          },
          "execution_count": 22
        }
      ]
    },
    {
      "cell_type": "code",
      "metadata": {
        "id": "uqFMl3ZEVks3",
        "outputId": "d66cf863-bfdb-4595-a27c-0bc135b4a633",
        "colab": {
          "base_uri": "https://localhost:8080/",
          "height": 69
        }
      },
      "source": [
        "recommend('The Host')"
      ],
      "execution_count": null,
      "outputs": [
        {
          "output_type": "stream",
          "text": [
            "movie_cluster : 0\n",
            "5\n",
            "['The Good, the Bad and the Ugly', 'Queen of the Mountains', 'Seven Samurai', 'The Silence of the Lambs', 'Spirited Away']\n"
          ],
          "name": "stdout"
        }
      ]
    },
    {
      "cell_type": "code",
      "metadata": {
        "id": "FkvfXsbFINaW",
        "outputId": "7f20c7dc-6787-4c73-e366-82ea71b9edcd",
        "colab": {
          "base_uri": "https://localhost:8080/",
          "height": 115
        }
      },
      "source": [
        "clean_data3[clean_data3['movie_title'] == 'Avatar']"
      ],
      "execution_count": null,
      "outputs": [
        {
          "output_type": "execute_result",
          "data": {
            "text/html": [
              "<div>\n",
              "<style scoped>\n",
              "    .dataframe tbody tr th:only-of-type {\n",
              "        vertical-align: middle;\n",
              "    }\n",
              "\n",
              "    .dataframe tbody tr th {\n",
              "        vertical-align: top;\n",
              "    }\n",
              "\n",
              "    .dataframe thead th {\n",
              "        text-align: right;\n",
              "    }\n",
              "</style>\n",
              "<table border=\"1\" class=\"dataframe\">\n",
              "  <thead>\n",
              "    <tr style=\"text-align: right;\">\n",
              "      <th></th>\n",
              "      <th>genres</th>\n",
              "      <th>plot_keywords</th>\n",
              "      <th>movie_title</th>\n",
              "      <th>actor_1_name</th>\n",
              "      <th>actor_2_name</th>\n",
              "      <th>actor_3_name</th>\n",
              "      <th>director_name</th>\n",
              "      <th>imdb_score</th>\n",
              "      <th>people</th>\n",
              "    </tr>\n",
              "  </thead>\n",
              "  <tbody>\n",
              "    <tr>\n",
              "      <th>0</th>\n",
              "      <td>Action|Adventure|Fantasy|Sci-Fi</td>\n",
              "      <td>avatar|future|marine|native|paraplegic</td>\n",
              "      <td>Avatar</td>\n",
              "      <td>CCH Pounder</td>\n",
              "      <td>Joel David Moore</td>\n",
              "      <td>Wes Studi</td>\n",
              "      <td>James Cameron</td>\n",
              "      <td>7.9</td>\n",
              "      <td>CCH Pounder Joel David Moore Wes Studi James C...</td>\n",
              "    </tr>\n",
              "  </tbody>\n",
              "</table>\n",
              "</div>"
            ],
            "text/plain": [
              "                            genres                           plot_keywords movie_title actor_1_name      actor_2_name actor_3_name  director_name  imdb_score                                             people\n",
              "0  Action|Adventure|Fantasy|Sci-Fi  avatar|future|marine|native|paraplegic      Avatar  CCH Pounder  Joel David Moore    Wes Studi  James Cameron         7.9  CCH Pounder Joel David Moore Wes Studi James C..."
            ]
          },
          "metadata": {
            "tags": []
          },
          "execution_count": 13
        }
      ]
    },
    {
      "cell_type": "code",
      "metadata": {
        "id": "CGWGhtxRJ1c5",
        "outputId": "9f518426-76d9-4cc6-9dc4-41b5c3fd1ce4",
        "colab": {
          "base_uri": "https://localhost:8080/",
          "height": 115
        }
      },
      "source": [
        "clean_data3[clean_data3['movie_title'] == 'Star Wars: Episode V - The Empire Strikes Back']"
      ],
      "execution_count": null,
      "outputs": [
        {
          "output_type": "execute_result",
          "data": {
            "text/html": [
              "<div>\n",
              "<style scoped>\n",
              "    .dataframe tbody tr th:only-of-type {\n",
              "        vertical-align: middle;\n",
              "    }\n",
              "\n",
              "    .dataframe tbody tr th {\n",
              "        vertical-align: top;\n",
              "    }\n",
              "\n",
              "    .dataframe thead th {\n",
              "        text-align: right;\n",
              "    }\n",
              "</style>\n",
              "<table border=\"1\" class=\"dataframe\">\n",
              "  <thead>\n",
              "    <tr style=\"text-align: right;\">\n",
              "      <th></th>\n",
              "      <th>genres</th>\n",
              "      <th>plot_keywords</th>\n",
              "      <th>movie_title</th>\n",
              "      <th>actor_1_name</th>\n",
              "      <th>actor_2_name</th>\n",
              "      <th>actor_3_name</th>\n",
              "      <th>director_name</th>\n",
              "      <th>imdb_score</th>\n",
              "      <th>people</th>\n",
              "    </tr>\n",
              "  </thead>\n",
              "  <tbody>\n",
              "    <tr>\n",
              "      <th>1983</th>\n",
              "      <td>Action|Adventure|Fantasy|Sci-Fi</td>\n",
              "      <td>duel|famous twist|rebel|rescue|snowy landscape</td>\n",
              "      <td>Star Wars: Episode V - The Empire Strikes Back</td>\n",
              "      <td>Harrison Ford</td>\n",
              "      <td>Kenny Baker</td>\n",
              "      <td>Anthony Daniels</td>\n",
              "      <td>Irvin Kershner</td>\n",
              "      <td>8.8</td>\n",
              "      <td>Harrison Ford Kenny Baker Anthony Daniels Irvi...</td>\n",
              "    </tr>\n",
              "  </tbody>\n",
              "</table>\n",
              "</div>"
            ],
            "text/plain": [
              "                               genres                                   plot_keywords                                     movie_title   actor_1_name actor_2_name     actor_3_name   director_name  imdb_score                                             people\n",
              "1983  Action|Adventure|Fantasy|Sci-Fi  duel|famous twist|rebel|rescue|snowy landscape  Star Wars: Episode V - The Empire Strikes Back  Harrison Ford  Kenny Baker  Anthony Daniels  Irvin Kershner         8.8  Harrison Ford Kenny Baker Anthony Daniels Irvi..."
            ]
          },
          "metadata": {
            "tags": []
          },
          "execution_count": 14
        }
      ]
    },
    {
      "cell_type": "code",
      "metadata": {
        "id": "e1VBCFYHMAEX"
      },
      "source": [
        "from wordcloud import WordCloud, STOPWORDS, ImageColorGenerator"
      ],
      "execution_count": null,
      "outputs": []
    },
    {
      "cell_type": "code",
      "metadata": {
        "id": "lDYg_0BqXfow",
        "outputId": "b300bef5-3a02-4342-a531-72b98c6fee58",
        "colab": {
          "base_uri": "https://localhost:8080/",
          "height": 86
        }
      },
      "source": [
        "pip install wordcloud"
      ],
      "execution_count": null,
      "outputs": [
        {
          "output_type": "stream",
          "text": [
            "Requirement already satisfied: wordcloud in /usr/local/lib/python3.6/dist-packages (1.5.0)\n",
            "Requirement already satisfied: numpy>=1.6.1 in /usr/local/lib/python3.6/dist-packages (from wordcloud) (1.16.2)\n",
            "Requirement already satisfied: pillow in /usr/local/lib/python3.6/dist-packages (from wordcloud) (4.3.0)\n",
            "Requirement already satisfied: olefile in /usr/local/lib/python3.6/dist-packages (from pillow->wordcloud) (0.46)\n"
          ],
          "name": "stdout"
        }
      ]
    }
  ]
}