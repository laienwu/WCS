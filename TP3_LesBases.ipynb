{
  "nbformat": 4,
  "nbformat_minor": 0,
  "metadata": {
    "kernelspec": {
      "display_name": "Python 3",
      "language": "python",
      "name": "python3"
    },
    "language_info": {
      "codemirror_mode": {
        "name": "ipython",
        "version": 3
      },
      "file_extension": ".py",
      "mimetype": "text/x-python",
      "name": "python",
      "nbconvert_exporter": "python",
      "pygments_lexer": "ipython3",
      "version": "3.7.3"
    },
    "colab": {
      "name": "TP3_LesBases.ipynb",
      "provenance": [],
      "include_colab_link": true
    }
  },
  "cells": [
    {
      "cell_type": "markdown",
      "metadata": {
        "id": "view-in-github",
        "colab_type": "text"
      },
      "source": [
        "<a href=\"https://colab.research.google.com/github/laienwu/WCS/blob/master/TP3_LesBases.ipynb\" target=\"_parent\"><img src=\"https://colab.research.google.com/assets/colab-badge.svg\" alt=\"Open In Colab\"/></a>"
      ]
    },
    {
      "cell_type": "markdown",
      "metadata": {
        "id": "EDDl9_pB8N8a"
      },
      "source": [
        "# Les Bases Python"
      ]
    },
    {
      "cell_type": "markdown",
      "metadata": {
        "id": "JHPjS6_a8N8p"
      },
      "source": [
        "## Les structures de controle; les if\n",
        "\n",
        "Les conditions permettent d'exécuter une partie du code selon certaines valeurs.\n",
        "\n",
        "Analyser le code ci dessous!\n"
      ]
    },
    {
      "cell_type": "code",
      "metadata": {
        "id": "MZGnyyfr8N8u"
      },
      "source": [
        "taille = 120\n",
        "\n",
        "if taille < 130:\n",
        "    print(\"La taille minimale pour l'attraction est de 150cm !\")\n",
        "elif taille > 210:\n",
        "    print(\"Vous êtes trop grand, vous ne pouvez pas entrer !\")\n",
        "else:\n",
        "    print(\"Vous pouvez y aller.\")"
      ],
      "execution_count": null,
      "outputs": []
    },
    {
      "cell_type": "markdown",
      "metadata": {
        "id": "Y0RvXQIG8N9B"
      },
      "source": [
        "* Ecrire un programme qui vérifie l'admissibilité d'un étudiant. Il est déclaré admis s'il a une moyenne > ou egale à 10 sinon il est refusé."
      ]
    },
    {
      "cell_type": "code",
      "metadata": {
        "id": "t1Ewuexh8N9H"
      },
      "source": [
        "taille = 120\n",
        "\n",
        "if taille < 130:\n",
        "    print(\"La taille minimale pour l'attraction est de 150cm !\")\n",
        "    elif taille > 210:\n",
        "        print(\"Vous êtes trop grand, vous ne pouvez pas entrer !\")\n",
        "        else:\n",
        "            print(\"Vous pouvez y aller.\")taille = 120\n",
        "\n",
        "            if taille < 130:\n",
        "                print(\"La taille minimale pour l'attraction est de 150cm !\")\n",
        "                elif taille > 210:\n",
        "                    print(\"Vous êtes trop grand, vous ne pouvez pas entrer !\")\n",
        "                    else:\n",
        "                        print(\"Vous pouvez y aller.\")"
      ],
      "execution_count": null,
      "outputs": []
    },
    {
      "cell_type": "markdown",
      "metadata": {
        "id": "cl13vzWi8N9W"
      },
      "source": [
        "* Ecrire un programme qui affiche le nombre le plus grand de trois nombres réels saisis. "
      ]
    },
    {
      "cell_type": "code",
      "metadata": {
        "id": "rXELZD3c8N9a"
      },
      "source": [
        "#TBD"
      ],
      "execution_count": null,
      "outputs": []
    },
    {
      "cell_type": "markdown",
      "metadata": {
        "id": "Ti_ElfWP8N9p"
      },
      "source": [
        "* Ecrire un programme qui affiche si le nombre en entré est positif, négatif ou nul"
      ]
    },
    {
      "cell_type": "code",
      "metadata": {
        "id": "hd0fHtq38N9t"
      },
      "source": [
        "#TBD"
      ],
      "execution_count": null,
      "outputs": []
    },
    {
      "cell_type": "markdown",
      "metadata": {
        "id": "y5MmHKWp8N97"
      },
      "source": [
        "## Les boucles `for` "
      ]
    },
    {
      "cell_type": "markdown",
      "metadata": {
        "id": "oGxjvHWg8N9_"
      },
      "source": [
        "\n",
        "Effectuer des répétitions est possible avec la boucle for. La variable i contient le numéro de la répétition, appelée aussi itération, celui-ci commence à 0.\n",
        "\n",
        "Analyser le code ci dessous"
      ]
    },
    {
      "cell_type": "code",
      "metadata": {
        "id": "ZNDkM80_8N-E"
      },
      "source": [
        "for i in range(10):\n",
        "    print(i)"
      ],
      "execution_count": null,
      "outputs": []
    },
    {
      "cell_type": "markdown",
      "metadata": {
        "id": "XQ87xb3q8N-R"
      },
      "source": [
        "* A l'aide d'une boucle for (sans utiliser la fonction native sum), ecrire un programme qui calcule la somme des élements de la liste [0,1,2,3,4,5]"
      ]
    },
    {
      "cell_type": "code",
      "metadata": {
        "id": "1vKJns2-8N-V"
      },
      "source": [
        "#TBD"
      ],
      "execution_count": null,
      "outputs": []
    },
    {
      "cell_type": "markdown",
      "metadata": {
        "id": "3VyEv5Su8N-h"
      },
      "source": [
        "* Calculer le nombre de caractères dans le mot \"BONJOUR\""
      ]
    },
    {
      "cell_type": "code",
      "metadata": {
        "id": "LM0jEU7o8N-l"
      },
      "source": [
        "#TBD"
      ],
      "execution_count": null,
      "outputs": []
    },
    {
      "cell_type": "markdown",
      "metadata": {
        "id": "tMNGk-vt8N-3"
      },
      "source": [
        "* Exécuter et Interpréter le code ci desssous:"
      ]
    },
    {
      "cell_type": "code",
      "metadata": {
        "id": "3yXIz03n8N-7"
      },
      "source": [
        "## break & continue\n",
        "for n in range(2, 10):\n",
        "    if n % 2 == 0:\n",
        "        print(\"c'est un nombre pair: \", n)\n",
        "        continue\n",
        "    if n > 5:\n",
        "        print(\"n > 5!\")\n",
        "        break"
      ],
      "execution_count": null,
      "outputs": []
    },
    {
      "cell_type": "markdown",
      "metadata": {
        "id": "qCKiB14S8N_H"
      },
      "source": [
        "la fonction input() permet la lecture d’informations à partir du clavier\n",
        "\n",
        "Par défaut, elle renvoie une chaîne de caractères. Il faut donc utiliser la fonction int() qui permet d’obtenir un entier.\n"
      ]
    },
    {
      "cell_type": "code",
      "metadata": {
        "id": "Rx_N9jvH8N_L"
      },
      "source": [
        "nom = input('Entrez votre nom : ')\n",
        "print(\"Bonjour\", nom, \"!\")"
      ],
      "execution_count": null,
      "outputs": []
    },
    {
      "cell_type": "code",
      "metadata": {
        "id": "IL3BIix78N_W"
      },
      "source": [
        "x = int(input(\"Donnez un entier : \"))\n",
        "print(\"Vous avez entré \",x)"
      ],
      "execution_count": null,
      "outputs": []
    },
    {
      "cell_type": "markdown",
      "metadata": {
        "id": "DmezpH0T8N_j"
      },
      "source": [
        "* Programme qui vérifie l'admissibilité d'un étudiant qui passe trois examens. Il est déclaré admis si :\n",
        "\n",
        "    * soit, il a au moins 9 points à chaque examen.\n",
        "    * soit, la moyenne des trois examens est au moins égale à 10 points et la plus basse note est au moins égale 8 points.\n",
        "\n",
        "S'il n'est pas admis alors il est refusé.\n"
      ]
    },
    {
      "cell_type": "code",
      "metadata": {
        "id": "gasiWQnK8N_n"
      },
      "source": [
        "#TBD"
      ],
      "execution_count": null,
      "outputs": []
    },
    {
      "cell_type": "markdown",
      "metadata": {
        "id": "16RLnq978N_z"
      },
      "source": [
        "* Ecrire un programme qui demande à l'utilisateur de saisir 10 notes puis il affiche leurs moyenne ainsi la note minimale et la note maximale. "
      ]
    },
    {
      "cell_type": "code",
      "metadata": {
        "id": "xloTO1sX8N_3"
      },
      "source": [
        "#TBD"
      ],
      "execution_count": null,
      "outputs": []
    },
    {
      "cell_type": "markdown",
      "metadata": {
        "id": "cDm4d8aN8OAD"
      },
      "source": [
        "* Ecrire un programme Python qui affiche les nombres de 18 à 1 de trois en trois."
      ]
    },
    {
      "cell_type": "code",
      "metadata": {
        "id": "dUVOzfVn8OAH"
      },
      "source": [
        "#TBD"
      ],
      "execution_count": null,
      "outputs": []
    },
    {
      "cell_type": "markdown",
      "metadata": {
        "id": "eBcJcy5n8OAU"
      },
      "source": [
        "## Les boucles while\n",
        "\n",
        "A l'aide d'une boucle while (sans utiliser la fonction native sum), coder la fonction element_sum qui prend en argument une liste de nombre et qui retourne la somme des élements d'une liste\n"
      ]
    },
    {
      "cell_type": "code",
      "metadata": {
        "id": "anRw1CMq8OAY"
      },
      "source": [
        "#TBD"
      ],
      "execution_count": null,
      "outputs": []
    },
    {
      "cell_type": "markdown",
      "metadata": {
        "id": "Uj1tGYBk8OAk"
      },
      "source": [
        "## Bonus\n"
      ]
    },
    {
      "cell_type": "markdown",
      "metadata": {
        "id": "l0781hlA8OAo"
      },
      "source": [
        "* Ecrire un programme qui permet de convertir une distance en kilomètre vers le mètre ou vice-versa, l'utilisateur saisi bien l'unité de départ ('km' ou 'mètres') et la distance. "
      ]
    },
    {
      "cell_type": "code",
      "metadata": {
        "id": "6SiV9Z0V8OAt"
      },
      "source": [
        "#TBD"
      ],
      "execution_count": null,
      "outputs": []
    },
    {
      "cell_type": "markdown",
      "metadata": {
        "id": "DKx4ltlz8OA8"
      },
      "source": [
        "* Ecrire un programme qui lit le nombre d'heures effectuées par un salarié dans la semaine et son salaire horaire et qui calcule et affiche sa paye hebdomadaire.\n",
        "\n",
        "On prendra en compte les heures supplémentaires (au-delà de 35 heures) payées à 150%."
      ]
    },
    {
      "cell_type": "code",
      "metadata": {
        "id": "UWfltvNK8OBD"
      },
      "source": [
        "#TBD"
      ],
      "execution_count": null,
      "outputs": []
    },
    {
      "cell_type": "code",
      "metadata": {
        "id": "g_337G-e8OBa"
      },
      "source": [
        ""
      ],
      "execution_count": null,
      "outputs": []
    }
  ]
}